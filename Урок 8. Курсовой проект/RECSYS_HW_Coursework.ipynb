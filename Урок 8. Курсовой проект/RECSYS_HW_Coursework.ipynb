{
 "cells": [
  {
   "cell_type": "markdown",
   "metadata": {},
   "source": [
    "## Курсовая работа по курсу \"Рекомендательные системы\""
   ]
  },
  {
   "cell_type": "markdown",
   "metadata": {},
   "source": [
    " **ОГЛАВЛЕНИЕ**\n",
    "* Разделы:\n",
    "    * [0. Постановка задачи.](#task)\n",
    "    * [1. Загрузка и просмотр данных.](#load)\n",
    "    * [3. Первый уровень. Поиск лучшего метода.](#first_level) \n",
    "    * [4. Второй уровень. Улучшение базовой модели 1-го уровня.](#second_level)\n",
    "    * [5. Вывод.](#end)"
   ]
  },
  {
   "cell_type": "markdown",
   "metadata": {},
   "source": [
    "**Задача курсовой:** \n",
    "\n",
    "0) Закрепить навыки, полученные на курсе рекомендательные системы;\n",
    "\n",
    "1) Выявить закономерности(паттерны) поведения(покупок) покупателя на предложенных данных,\n",
    "    сформировать рекомендации на их основании и предложить товары для некторого интервала \n",
    "            времени покупок покупателя(проверка на retail_test1 -> 3 недели с 96-й по 98-ю включительно).\n",
    "                Применяется только \"тёплый старт  (когда есть итория покупок покупателя).  \n",
    "        \n",
    "\n",
    "2) Преодолеть порог метрики precision@5 = 0.22 на retail_test1 \n",
    "    без дробления retail_test1 на части(по неделям, дням, корзинам и т.д).\n"
   ]
  },
  {
   "cell_type": "markdown",
   "metadata": {},
   "source": [
    "Пояснения:\n",
    "* Данная курсовая работа построена на базе домашних заданий, которые были выполнены в рамках данного курса. \n",
    "* В данной рабочей тетрадке не отражены экперименты, проведенные в рамках выполнения курсовой работы. "
   ]
  },
  {
   "cell_type": "markdown",
   "metadata": {},
   "source": [
    "# Загрузка и подготовка данных <a class='anchor' id='load'>"
   ]
  },
  {
   "cell_type": "code",
   "execution_count": 1,
   "metadata": {},
   "outputs": [],
   "source": [
    "import pandas as pd\n",
    "import numpy as np\n",
    "import seaborn as sns\n",
    "import matplotlib.pyplot as plt\n",
    "%matplotlib inline\n",
    "\n",
    "from tqdm import tqdm\n",
    "# Для работы с матрицами\n",
    "from scipy.sparse import csr_matrix\n",
    "\n",
    "# Матричная факторизация\n",
    "from implicit import als\n",
    "\n",
    "# Модель второго уровня\n",
    "from lightgbm import LGBMClassifier\n",
    "\n",
    "import os, sys\n",
    "module_path = os.path.abspath(os.path.join(os.pardir))\n",
    "if module_path not in sys.path:\n",
    "    sys.path.append(module_path)\n",
    "\n",
    "# Написанные нами функции\n",
    "from metrics import precision_at_k, recall_at_k\n",
    "from utils import prefilter_items\n",
    "from recommenders import MainRecommender\n",
    "\n",
    "import warnings\n",
    "warnings.filterwarnings('ignore')"
   ]
  },
  {
   "cell_type": "code",
   "execution_count": 2,
   "metadata": {},
   "outputs": [],
   "source": [
    "# В дальнейшем можно перенести функции в загружаемые модули. Здесь размещено для простоты поиска.\n",
    "\n",
    "#metrics\n",
    "def calc_precision(df_data, top_k):\n",
    "    \"\"\" Расчет точности на предоставленных данных.\n",
    "    df_data - данные, где должны быть столбцы с user_id, actual_col(реальные покупки покупателя): list, recommendation: list;\n",
    "    top_k - значение для расчета точности actual_col, recommendation.\n",
    "    \"\"\"\n",
    "    for col_name in df_data.columns[2:]:\n",
    "        yield col_name, df_data.apply(lambda row: precision_at_k(row[col_name], row[ACTUAL_COL], k=top_k), axis=1).mean()\n",
    "\n",
    "#recommenders    \n",
    "def global_popularity_rec(data, n=5):\n",
    "    \"\"\"Топ-n популярных товаров среди всех покупателей.\n",
    "    data - данные для выявления популярных товаров;\n",
    "    n - выбор Топ-n товаров.\n",
    "    \"\"\"\n",
    "    popular = data.groupby('item_id')['sales_value'].sum().reset_index()\n",
    "    popular.sort_values('sales_value', ascending=False, inplace=True)\n",
    "    recs = popular.head(n).item_id\n",
    "    \n",
    "    return recs.tolist()\n",
    "\n",
    "\n",
    "def self_popularity_rec(user, data, n=5):\n",
    "    \"\"\"Топ-n популярных товаров одного пользователя.\n",
    "    user - пользователь: int;\n",
    "    data - данные с покупками пользователя за выбранный период;\n",
    "    n - выбор Топ-n товаров.\n",
    "    \"\"\"\n",
    "    recs_for_user = data[data['user_id'] == user]['item_id'].value_counts().index[:n].tolist()\n",
    "    \n",
    "    # Если не хватает товаров у пользователя, то добавить товары из глобального топа товаров \n",
    "    if len(recs_for_user) < n:\n",
    "        recs_for_user += data['item_id'].value_counts().index[:5].tolist()[:(n - len(recs_for_user))]\n",
    "        \n",
    "    return recs_for_user"
   ]
  },
  {
   "cell_type": "code",
   "execution_count": 3,
   "metadata": {},
   "outputs": [],
   "source": [
    "# Второй уровень для self_popular_rec\n",
    "\n",
    "#utils\n",
    "def get_new_features(df_ranker_train, data_val, data_train, item_features, user_features):\n",
    "    \"\"\" Формирует новые признаки для второго уровня(двухуровневой модели рекомендаций).\n",
    "    df_ranker_train - сформированный датасет для второго уровня;\n",
    "    data_val - валидационная часть данных или тестовая;\n",
    "    data_train - тренировочная часть данных;\n",
    "    item_features - данные с описанием товаров;\n",
    "    user_features - данные с описанием пользователей.\n",
    "    \"\"\"\n",
    "    df_train_val = pd.concat([data_train, data_val], axis=0)\n",
    "    \n",
    "    # Средний чек у каждого покупателя(пользователя)\n",
    "    mean_check = df_train_val.groupby(\n",
    "        ['user_id', 'basket_id'], as_index=False).agg({'sales_value': 'sum'}).groupby(\n",
    "            'user_id', as_index=False).agg({'sales_value': 'mean'}).rename(columns={'sales_value': 'mean_check'})\n",
    "    df_ranker_train = df_ranker_train.merge(mean_check , on='user_id', how='left')\n",
    "    #---------------------------------------------------------------------------------------------------------------------\n",
    "    # Кол-во покупок в каждой категории у каждого покупателя\n",
    "    df_tmp = df_train_val.merge(item_features, on='item_id', how='left')\n",
    "    quantity_purchases_in_cat = df_tmp.groupby(\n",
    "        ['user_id', 'commodity_desc'], as_index=False).count()[['user_id', 'commodity_desc', 'item_id']].rename(\n",
    "            columns={'item_id': 'quantity_purchases_in_cat'})\n",
    "    df_ranker_train = df_ranker_train.merge(quantity_purchases_in_cat, on=['user_id', 'commodity_desc'], how='left')\n",
    "    #---------------------------------------------------------------------------------------------------------------------\n",
    "    # Среднее кол-во покупок товара в неделю \n",
    "    mean_purch_per_week = df_train_val.groupby(['item_id', 'week_no'], as_index=False).agg({\"user_id\": 'count'}).groupby(\n",
    "         'item_id', as_index=False).agg({'user_id': 'mean'}).rename(columns={'user_id': 'mean_purch_per_week'})\n",
    "\n",
    "    df_ranker_train = df_ranker_train.merge(mean_purch_per_week, on='item_id', how='left')\n",
    "    #---------------------------------------------------------------------------------------------------------------------\n",
    "    # Среднее кол-во покупок 1 товара в категории в неделю\n",
    "    df_tmp = df_train_val.merge(item_features, on='item_id', how='left')\n",
    "    df_tmp = df_tmp.groupby(['commodity_desc', 'week_no'], as_index=False).agg({\"user_id\": 'count'}).groupby(\n",
    "         'commodity_desc', as_index=False).agg({'user_id': 'mean'}).rename(columns={'user_id': 'mean_comm_per_week'})\n",
    "    df_ranker_train = df_ranker_train.merge(df_tmp, on='commodity_desc', how='left')\n",
    "    #---------------------------------------------------------------------------------------------------------------------\n",
    "    # (Средняя сумма покупки 1 товара в каждой категории (берем категорию item_id)) - (Цена item_id)\n",
    "    df_tmp = df_train_val.merge(item_features, on='item_id', how='left')\n",
    "    tmp2 = df_tmp.groupby('item_id', as_index=False).agg({'sales_value': 'mean'})\n",
    "    df_tmp = df_tmp.groupby(['item_id', 'commodity_desc'], as_index=False).agg({\"sales_value\": 'sum'}).groupby(\n",
    "        'item_id', as_index=False).agg({'sales_value': 'mean'}).rename(columns={'sales_value': 'mean_sales_item_per_cat'})\n",
    "\n",
    "    df_tmp = df_tmp.merge(tmp2, on='item_id', how='left')\n",
    "    df_tmp['mean_sales_item_per_cat-sales_value'] = df_tmp['mean_sales_item_per_cat'] - df_tmp['sales_value']\n",
    "    df_ranker_train = df_ranker_train.merge(\n",
    "        df_tmp[['item_id', 'mean_sales_item_per_cat-sales_value']], on='item_id', how='left')\n",
    "    #---------------------------------------------------------------------------------------------------------------------\n",
    "    # (Кол-во покупок юзером конкретной категории) / (Среднее кол-во покупок всеми юзерами конкретной категории)\n",
    "    df_tmp = df_train_val.merge(item_features, on='item_id', how='left')\n",
    "    tmp2 = df_tmp.groupby(\n",
    "        ['user_id', 'commodity_desc'], as_index=False).count().rename(\n",
    "            columns={'basket_id': 'cnt_sales'})[['user_id', 'commodity_desc', 'cnt_sales']]\n",
    "\n",
    "    tmp3 = tmp2.groupby('commodity_desc', as_index=False).agg({'cnt_sales': 'mean'}).rename(\n",
    "        columns={'cnt_sales': 'mean_sales_per_cat'})\n",
    "    tmp2 = tmp2.merge(tmp3, on='commodity_desc', how='left')\n",
    "\n",
    "    tmp2['cnt_sales-mean_sales_per_cat'] = tmp2['cnt_sales'] - tmp2['mean_sales_per_cat']\n",
    "    df_ranker_train = df_ranker_train.merge(\n",
    "        tmp2[['user_id', 'commodity_desc', 'cnt_sales-mean_sales_per_cat']], on=['user_id', 'commodity_desc'], how='left')    \n",
    "\n",
    "    return df_ranker_train\n",
    "\n",
    "\n",
    "def create_second_level(data, data_train, data_val, item_features, user_features):\n",
    "    \"\"\" Формирует данные для второго уровня рекомендаций и возвращает X(data), y(target).\n",
    "    data - данные, на основании которых будет строиться ML модель для второго уровня;\n",
    "    data_train - тренировочные данные, для проверки на \"теплый старт\";\n",
    "    data_val - данные за определенный период времени, где присутствуют предыдущие покупки покупателя;\n",
    "    item_features - данные с описанием товаров;\n",
    "    user_features - данные с описанием пользователей.\n",
    "    \"\"\"\n",
    "    df_match_candidates = pd.DataFrame(data['user_id'].unique())\n",
    "    df_match_candidates.columns = ['user_id']\n",
    "    \n",
    "    # warm start\n",
    "    train_users = data_train['user_id'].unique()\n",
    "    df_match_candidates = df_match_candidates[df_match_candidates['user_id'].isin(train_users)]\n",
    "    \n",
    "    # собираем кандитатов (matcher)\n",
    "    df_match_candidates['candidates'] = df_match_candidates['user_id'].apply(\n",
    "        lambda x: self_popularity_rec(x, data_val, n=100))\n",
    "\n",
    "    df_items = df_match_candidates.apply(lambda x: pd.Series(x['candidates']), axis=1).stack().reset_index(level=1, drop=True)\n",
    "    df_items.name = 'item_id'\n",
    "    \n",
    "    df_match_candidates = df_match_candidates.drop('candidates', axis=1).join(df_items)\n",
    "    \n",
    "    df_ranker_train = data[['user_id', 'item_id']].copy()\n",
    "    df_ranker_train['target'] = 1  # тут только покупки\n",
    "    \n",
    "    df_ranker_train = df_match_candidates.merge(df_ranker_train, on=['user_id', 'item_id'], how='left')\n",
    "    # чистим дубликаты\n",
    "    df_ranker_train = df_ranker_train.drop_duplicates(subset=[USER_COL, ITEM_COL]) \n",
    "    df_ranker_train['target'].fillna(0, inplace= True)\n",
    "    \n",
    "    df_ranker_train = df_ranker_train.merge(item_features, on='item_id', how='left')\n",
    "    df_ranker_train = df_ranker_train.merge(user_features, on='user_id', how='left')\n",
    "    \n",
    "    # создаем новые фичи (будет небольшой разрыв для тестовых данных по неделям)\n",
    "    df_ranker_train = get_new_features(df_ranker_train, data, data_train, item_features, user_features)\n",
    "    \n",
    "    X = df_ranker_train.drop('target', axis=1)\n",
    "    y = df_ranker_train['target']\n",
    "    \n",
    "    return X, y\n",
    "\n",
    "\n",
    "def get_final_rec(df_ranker_predict_test, test_preds_proba):\n",
    "    \"\"\" Переранжирование рекомендаций в соответствии с вероятностью.\n",
    "    df_ranker_predict_test - подготовленные данные из 2-го уровня(двухуровневой модели рекомендаций);\n",
    "    test_preds_proba - предсказанные вероятности: np.array (shape(n, 1)).\n",
    "    \"\"\"\n",
    "    df_ranker_predict_test['predict_proba'] = test_preds_proba\n",
    "    df_ranker_predict_test.sort_values(['user_id', 'predict_proba'], ascending=False, inplace=True)\n",
    "    result = df_ranker_predict_test.groupby('user_id').head(5)\n",
    "    result2 = pd.DataFrame(result.user_id.unique().tolist(), columns=['user_id'])\n",
    "    result2['rec'] = result2['user_id'].apply(lambda x: result.loc[result['user_id'] == x]['item_id'].tolist())\n",
    "    \n",
    "    result_test = df_test.groupby('user_id')['item_id'].unique().reset_index()\n",
    "    result_test.columns=['user_id', 'actual']\n",
    "    \n",
    "    result_test = result_test.merge(result2, how='left')\n",
    "    \n",
    "    return result_test"
   ]
  },
  {
   "cell_type": "code",
   "execution_count": 4,
   "metadata": {},
   "outputs": [],
   "source": [
    "ITEM_COL = 'item_id'\n",
    "USER_COL = 'user_id'\n",
    "ACTUAL_COL = 'actual'\n",
    "\n",
    "# N = Neighbors\n",
    "N_PREDICT = 100"
   ]
  },
  {
   "cell_type": "code",
   "execution_count": 5,
   "metadata": {},
   "outputs": [],
   "source": [
    "# data = pd.read_csv('../data/retail_train.csv')\n",
    "# item_features = pd.read_csv('../data/product.csv')\n",
    "# user_features = pd.read_csv('../data/hh_demographic.csv')\n",
    "# df_test = pd.read_csv('../data/recsys_retail_test1.csv')\n",
    "\n",
    "data = pd.read_csv('recsys_retail_train.csv')\n",
    "item_features = pd.read_csv('recsys_product.csv')\n",
    "user_features = pd.read_csv('recsys_hh_demographic.csv')\n",
    "df_test = pd.read_csv('recsys_retail_test1.csv')"
   ]
  },
  {
   "cell_type": "code",
   "execution_count": 6,
   "metadata": {},
   "outputs": [
    {
     "data": {
      "text/html": [
       "<div>\n",
       "<style scoped>\n",
       "    .dataframe tbody tr th:only-of-type {\n",
       "        vertical-align: middle;\n",
       "    }\n",
       "\n",
       "    .dataframe tbody tr th {\n",
       "        vertical-align: top;\n",
       "    }\n",
       "\n",
       "    .dataframe thead th {\n",
       "        text-align: right;\n",
       "    }\n",
       "</style>\n",
       "<table border=\"1\" class=\"dataframe\">\n",
       "  <thead>\n",
       "    <tr style=\"text-align: right;\">\n",
       "      <th></th>\n",
       "      <th>user_id</th>\n",
       "      <th>basket_id</th>\n",
       "      <th>day</th>\n",
       "      <th>item_id</th>\n",
       "      <th>quantity</th>\n",
       "      <th>sales_value</th>\n",
       "      <th>store_id</th>\n",
       "      <th>retail_disc</th>\n",
       "      <th>trans_time</th>\n",
       "      <th>week_no</th>\n",
       "      <th>coupon_disc</th>\n",
       "      <th>coupon_match_disc</th>\n",
       "    </tr>\n",
       "  </thead>\n",
       "  <tbody>\n",
       "    <tr>\n",
       "      <th>0</th>\n",
       "      <td>2375</td>\n",
       "      <td>26984851472</td>\n",
       "      <td>1</td>\n",
       "      <td>1004906</td>\n",
       "      <td>1</td>\n",
       "      <td>1.39</td>\n",
       "      <td>364</td>\n",
       "      <td>-0.6</td>\n",
       "      <td>1631</td>\n",
       "      <td>1</td>\n",
       "      <td>0.0</td>\n",
       "      <td>0.0</td>\n",
       "    </tr>\n",
       "    <tr>\n",
       "      <th>1</th>\n",
       "      <td>2375</td>\n",
       "      <td>26984851472</td>\n",
       "      <td>1</td>\n",
       "      <td>1033142</td>\n",
       "      <td>1</td>\n",
       "      <td>0.82</td>\n",
       "      <td>364</td>\n",
       "      <td>0.0</td>\n",
       "      <td>1631</td>\n",
       "      <td>1</td>\n",
       "      <td>0.0</td>\n",
       "      <td>0.0</td>\n",
       "    </tr>\n",
       "  </tbody>\n",
       "</table>\n",
       "</div>"
      ],
      "text/plain": [
       "   user_id    basket_id  day  item_id  quantity  sales_value  store_id  \\\n",
       "0     2375  26984851472    1  1004906         1         1.39       364   \n",
       "1     2375  26984851472    1  1033142         1         0.82       364   \n",
       "\n",
       "   retail_disc  trans_time  week_no  coupon_disc  coupon_match_disc  \n",
       "0         -0.6        1631        1          0.0                0.0  \n",
       "1          0.0        1631        1          0.0                0.0  "
      ]
     },
     "execution_count": 6,
     "metadata": {},
     "output_type": "execute_result"
    }
   ],
   "source": [
    "data.head(2)"
   ]
  },
  {
   "cell_type": "code",
   "execution_count": 7,
   "metadata": {},
   "outputs": [
    {
     "data": {
      "text/html": [
       "<div>\n",
       "<style scoped>\n",
       "    .dataframe tbody tr th:only-of-type {\n",
       "        vertical-align: middle;\n",
       "    }\n",
       "\n",
       "    .dataframe tbody tr th {\n",
       "        vertical-align: top;\n",
       "    }\n",
       "\n",
       "    .dataframe thead th {\n",
       "        text-align: right;\n",
       "    }\n",
       "</style>\n",
       "<table border=\"1\" class=\"dataframe\">\n",
       "  <thead>\n",
       "    <tr style=\"text-align: right;\">\n",
       "      <th></th>\n",
       "      <th>user_id</th>\n",
       "      <th>basket_id</th>\n",
       "      <th>day</th>\n",
       "      <th>item_id</th>\n",
       "      <th>quantity</th>\n",
       "      <th>sales_value</th>\n",
       "      <th>store_id</th>\n",
       "      <th>retail_disc</th>\n",
       "      <th>trans_time</th>\n",
       "      <th>week_no</th>\n",
       "      <th>coupon_disc</th>\n",
       "      <th>coupon_match_disc</th>\n",
       "    </tr>\n",
       "  </thead>\n",
       "  <tbody>\n",
       "    <tr>\n",
       "      <th>0</th>\n",
       "      <td>1340</td>\n",
       "      <td>41652823310</td>\n",
       "      <td>664</td>\n",
       "      <td>912987</td>\n",
       "      <td>1</td>\n",
       "      <td>8.49</td>\n",
       "      <td>446</td>\n",
       "      <td>0.0</td>\n",
       "      <td>52</td>\n",
       "      <td>96</td>\n",
       "      <td>0.0</td>\n",
       "      <td>0.0</td>\n",
       "    </tr>\n",
       "    <tr>\n",
       "      <th>1</th>\n",
       "      <td>588</td>\n",
       "      <td>41652838477</td>\n",
       "      <td>664</td>\n",
       "      <td>1024426</td>\n",
       "      <td>1</td>\n",
       "      <td>6.29</td>\n",
       "      <td>388</td>\n",
       "      <td>0.0</td>\n",
       "      <td>8</td>\n",
       "      <td>96</td>\n",
       "      <td>0.0</td>\n",
       "      <td>0.0</td>\n",
       "    </tr>\n",
       "  </tbody>\n",
       "</table>\n",
       "</div>"
      ],
      "text/plain": [
       "   user_id    basket_id  day  item_id  quantity  sales_value  store_id  \\\n",
       "0     1340  41652823310  664   912987         1         8.49       446   \n",
       "1      588  41652838477  664  1024426         1         6.29       388   \n",
       "\n",
       "   retail_disc  trans_time  week_no  coupon_disc  coupon_match_disc  \n",
       "0          0.0          52       96          0.0                0.0  \n",
       "1          0.0           8       96          0.0                0.0  "
      ]
     },
     "execution_count": 7,
     "metadata": {},
     "output_type": "execute_result"
    }
   ],
   "source": [
    "df_test.head(2)"
   ]
  },
  {
   "cell_type": "code",
   "execution_count": 8,
   "metadata": {},
   "outputs": [
    {
     "data": {
      "text/html": [
       "<div>\n",
       "<style scoped>\n",
       "    .dataframe tbody tr th:only-of-type {\n",
       "        vertical-align: middle;\n",
       "    }\n",
       "\n",
       "    .dataframe tbody tr th {\n",
       "        vertical-align: top;\n",
       "    }\n",
       "\n",
       "    .dataframe thead th {\n",
       "        text-align: right;\n",
       "    }\n",
       "</style>\n",
       "<table border=\"1\" class=\"dataframe\">\n",
       "  <thead>\n",
       "    <tr style=\"text-align: right;\">\n",
       "      <th></th>\n",
       "      <th>PRODUCT_ID</th>\n",
       "      <th>MANUFACTURER</th>\n",
       "      <th>DEPARTMENT</th>\n",
       "      <th>BRAND</th>\n",
       "      <th>COMMODITY_DESC</th>\n",
       "      <th>SUB_COMMODITY_DESC</th>\n",
       "      <th>CURR_SIZE_OF_PRODUCT</th>\n",
       "    </tr>\n",
       "  </thead>\n",
       "  <tbody>\n",
       "    <tr>\n",
       "      <th>0</th>\n",
       "      <td>25671</td>\n",
       "      <td>2</td>\n",
       "      <td>GROCERY</td>\n",
       "      <td>National</td>\n",
       "      <td>FRZN ICE</td>\n",
       "      <td>ICE - CRUSHED/CUBED</td>\n",
       "      <td>22 LB</td>\n",
       "    </tr>\n",
       "    <tr>\n",
       "      <th>1</th>\n",
       "      <td>26081</td>\n",
       "      <td>2</td>\n",
       "      <td>MISC. TRANS.</td>\n",
       "      <td>National</td>\n",
       "      <td>NO COMMODITY DESCRIPTION</td>\n",
       "      <td>NO SUBCOMMODITY DESCRIPTION</td>\n",
       "      <td></td>\n",
       "    </tr>\n",
       "  </tbody>\n",
       "</table>\n",
       "</div>"
      ],
      "text/plain": [
       "   PRODUCT_ID  MANUFACTURER    DEPARTMENT     BRAND            COMMODITY_DESC  \\\n",
       "0       25671             2       GROCERY  National                  FRZN ICE   \n",
       "1       26081             2  MISC. TRANS.  National  NO COMMODITY DESCRIPTION   \n",
       "\n",
       "            SUB_COMMODITY_DESC CURR_SIZE_OF_PRODUCT  \n",
       "0          ICE - CRUSHED/CUBED                22 LB  \n",
       "1  NO SUBCOMMODITY DESCRIPTION                       "
      ]
     },
     "execution_count": 8,
     "metadata": {},
     "output_type": "execute_result"
    }
   ],
   "source": [
    "item_features.head(2)"
   ]
  },
  {
   "cell_type": "code",
   "execution_count": 9,
   "metadata": {},
   "outputs": [
    {
     "data": {
      "text/html": [
       "<div>\n",
       "<style scoped>\n",
       "    .dataframe tbody tr th:only-of-type {\n",
       "        vertical-align: middle;\n",
       "    }\n",
       "\n",
       "    .dataframe tbody tr th {\n",
       "        vertical-align: top;\n",
       "    }\n",
       "\n",
       "    .dataframe thead th {\n",
       "        text-align: right;\n",
       "    }\n",
       "</style>\n",
       "<table border=\"1\" class=\"dataframe\">\n",
       "  <thead>\n",
       "    <tr style=\"text-align: right;\">\n",
       "      <th></th>\n",
       "      <th>AGE_DESC</th>\n",
       "      <th>MARITAL_STATUS_CODE</th>\n",
       "      <th>INCOME_DESC</th>\n",
       "      <th>HOMEOWNER_DESC</th>\n",
       "      <th>HH_COMP_DESC</th>\n",
       "      <th>HOUSEHOLD_SIZE_DESC</th>\n",
       "      <th>KID_CATEGORY_DESC</th>\n",
       "      <th>household_key</th>\n",
       "    </tr>\n",
       "  </thead>\n",
       "  <tbody>\n",
       "    <tr>\n",
       "      <th>0</th>\n",
       "      <td>65+</td>\n",
       "      <td>A</td>\n",
       "      <td>35-49K</td>\n",
       "      <td>Homeowner</td>\n",
       "      <td>2 Adults No Kids</td>\n",
       "      <td>2</td>\n",
       "      <td>None/Unknown</td>\n",
       "      <td>1</td>\n",
       "    </tr>\n",
       "    <tr>\n",
       "      <th>1</th>\n",
       "      <td>45-54</td>\n",
       "      <td>A</td>\n",
       "      <td>50-74K</td>\n",
       "      <td>Homeowner</td>\n",
       "      <td>2 Adults No Kids</td>\n",
       "      <td>2</td>\n",
       "      <td>None/Unknown</td>\n",
       "      <td>7</td>\n",
       "    </tr>\n",
       "  </tbody>\n",
       "</table>\n",
       "</div>"
      ],
      "text/plain": [
       "  AGE_DESC MARITAL_STATUS_CODE INCOME_DESC HOMEOWNER_DESC      HH_COMP_DESC  \\\n",
       "0      65+                   A      35-49K      Homeowner  2 Adults No Kids   \n",
       "1    45-54                   A      50-74K      Homeowner  2 Adults No Kids   \n",
       "\n",
       "  HOUSEHOLD_SIZE_DESC KID_CATEGORY_DESC  household_key  \n",
       "0                   2      None/Unknown              1  \n",
       "1                   2      None/Unknown              7  "
      ]
     },
     "execution_count": 9,
     "metadata": {},
     "output_type": "execute_result"
    }
   ],
   "source": [
    "user_features.head(2)"
   ]
  },
  {
   "cell_type": "code",
   "execution_count": 10,
   "metadata": {},
   "outputs": [],
   "source": [
    "# column processing\n",
    "item_features.columns = [col.lower() for col in item_features.columns]\n",
    "user_features.columns = [col.lower() for col in user_features.columns]\n",
    "\n",
    "item_features.rename(columns={'product_id': ITEM_COL}, inplace=True)\n",
    "user_features.rename(columns={'household_key': USER_COL }, inplace=True)"
   ]
  },
  {
   "cell_type": "code",
   "execution_count": 11,
   "metadata": {
    "scrolled": true
   },
   "outputs": [],
   "source": [
    "# берем данные для тренировки matching модели\n",
    "data_train = data[data['week_no'] < data['week_no'].max() - 12]\n",
    "\n",
    "# берем данные для валидации matching модели\n",
    "data_val = data[(data['week_no'] >= data['week_no'].max() - 12) & (data['week_no'] < data['week_no'].max() - 6)]\n",
    "\n",
    "# берем данные для тренировки модели\n",
    "data_train_ranker = data[data['week_no'] >= data['week_no'].max() - 6]"
   ]
  },
  {
   "cell_type": "code",
   "execution_count": 12,
   "metadata": {},
   "outputs": [
    {
     "data": {
      "text/html": [
       "<div>\n",
       "<style scoped>\n",
       "    .dataframe tbody tr th:only-of-type {\n",
       "        vertical-align: middle;\n",
       "    }\n",
       "\n",
       "    .dataframe tbody tr th {\n",
       "        vertical-align: top;\n",
       "    }\n",
       "\n",
       "    .dataframe thead th {\n",
       "        text-align: right;\n",
       "    }\n",
       "</style>\n",
       "<table border=\"1\" class=\"dataframe\">\n",
       "  <thead>\n",
       "    <tr style=\"text-align: right;\">\n",
       "      <th></th>\n",
       "      <th>user_id</th>\n",
       "      <th>basket_id</th>\n",
       "      <th>day</th>\n",
       "      <th>item_id</th>\n",
       "      <th>quantity</th>\n",
       "      <th>sales_value</th>\n",
       "      <th>store_id</th>\n",
       "      <th>retail_disc</th>\n",
       "      <th>trans_time</th>\n",
       "      <th>week_no</th>\n",
       "      <th>coupon_disc</th>\n",
       "      <th>coupon_match_disc</th>\n",
       "    </tr>\n",
       "  </thead>\n",
       "  <tbody>\n",
       "    <tr>\n",
       "      <th>2025344</th>\n",
       "      <td>546</td>\n",
       "      <td>40374217632</td>\n",
       "      <td>572</td>\n",
       "      <td>9337142</td>\n",
       "      <td>2</td>\n",
       "      <td>2.30</td>\n",
       "      <td>327</td>\n",
       "      <td>0.00</td>\n",
       "      <td>1931</td>\n",
       "      <td>82</td>\n",
       "      <td>0.0</td>\n",
       "      <td>0.0</td>\n",
       "    </tr>\n",
       "    <tr>\n",
       "      <th>2025345</th>\n",
       "      <td>546</td>\n",
       "      <td>40374217632</td>\n",
       "      <td>572</td>\n",
       "      <td>9526666</td>\n",
       "      <td>1</td>\n",
       "      <td>0.88</td>\n",
       "      <td>327</td>\n",
       "      <td>-0.12</td>\n",
       "      <td>1931</td>\n",
       "      <td>82</td>\n",
       "      <td>0.0</td>\n",
       "      <td>0.0</td>\n",
       "    </tr>\n",
       "  </tbody>\n",
       "</table>\n",
       "</div>"
      ],
      "text/plain": [
       "         user_id    basket_id  day  item_id  quantity  sales_value  store_id  \\\n",
       "2025344      546  40374217632  572  9337142         2         2.30       327   \n",
       "2025345      546  40374217632  572  9526666         1         0.88       327   \n",
       "\n",
       "         retail_disc  trans_time  week_no  coupon_disc  coupon_match_disc  \n",
       "2025344         0.00        1931       82          0.0                0.0  \n",
       "2025345        -0.12        1931       82          0.0                0.0  "
      ]
     },
     "execution_count": 12,
     "metadata": {},
     "output_type": "execute_result"
    }
   ],
   "source": [
    "data_train.tail(2)"
   ]
  },
  {
   "cell_type": "code",
   "execution_count": 13,
   "metadata": {},
   "outputs": [
    {
     "data": {
      "text/html": [
       "<div>\n",
       "<style scoped>\n",
       "    .dataframe tbody tr th:only-of-type {\n",
       "        vertical-align: middle;\n",
       "    }\n",
       "\n",
       "    .dataframe tbody tr th {\n",
       "        vertical-align: top;\n",
       "    }\n",
       "\n",
       "    .dataframe thead th {\n",
       "        text-align: right;\n",
       "    }\n",
       "</style>\n",
       "<table border=\"1\" class=\"dataframe\">\n",
       "  <thead>\n",
       "    <tr style=\"text-align: right;\">\n",
       "      <th></th>\n",
       "      <th>user_id</th>\n",
       "      <th>basket_id</th>\n",
       "      <th>day</th>\n",
       "      <th>item_id</th>\n",
       "      <th>quantity</th>\n",
       "      <th>sales_value</th>\n",
       "      <th>store_id</th>\n",
       "      <th>retail_disc</th>\n",
       "      <th>trans_time</th>\n",
       "      <th>week_no</th>\n",
       "      <th>coupon_disc</th>\n",
       "      <th>coupon_match_disc</th>\n",
       "    </tr>\n",
       "  </thead>\n",
       "  <tbody>\n",
       "    <tr>\n",
       "      <th>2193525</th>\n",
       "      <td>601</td>\n",
       "      <td>40879600955</td>\n",
       "      <td>614</td>\n",
       "      <td>131818</td>\n",
       "      <td>1</td>\n",
       "      <td>1.39</td>\n",
       "      <td>3102</td>\n",
       "      <td>0.0</td>\n",
       "      <td>1330</td>\n",
       "      <td>88</td>\n",
       "      <td>0.0</td>\n",
       "      <td>0.0</td>\n",
       "    </tr>\n",
       "    <tr>\n",
       "      <th>2193526</th>\n",
       "      <td>601</td>\n",
       "      <td>40879600955</td>\n",
       "      <td>614</td>\n",
       "      <td>6754112</td>\n",
       "      <td>1</td>\n",
       "      <td>0.99</td>\n",
       "      <td>3102</td>\n",
       "      <td>-0.6</td>\n",
       "      <td>1330</td>\n",
       "      <td>88</td>\n",
       "      <td>0.0</td>\n",
       "      <td>0.0</td>\n",
       "    </tr>\n",
       "  </tbody>\n",
       "</table>\n",
       "</div>"
      ],
      "text/plain": [
       "         user_id    basket_id  day  item_id  quantity  sales_value  store_id  \\\n",
       "2193525      601  40879600955  614   131818         1         1.39      3102   \n",
       "2193526      601  40879600955  614  6754112         1         0.99      3102   \n",
       "\n",
       "         retail_disc  trans_time  week_no  coupon_disc  coupon_match_disc  \n",
       "2193525          0.0        1330       88          0.0                0.0  \n",
       "2193526         -0.6        1330       88          0.0                0.0  "
      ]
     },
     "execution_count": 13,
     "metadata": {},
     "output_type": "execute_result"
    }
   ],
   "source": [
    "data_val.tail(2)"
   ]
  },
  {
   "cell_type": "code",
   "execution_count": 14,
   "metadata": {},
   "outputs": [
    {
     "data": {
      "text/html": [
       "<div>\n",
       "<style scoped>\n",
       "    .dataframe tbody tr th:only-of-type {\n",
       "        vertical-align: middle;\n",
       "    }\n",
       "\n",
       "    .dataframe tbody tr th {\n",
       "        vertical-align: top;\n",
       "    }\n",
       "\n",
       "    .dataframe thead th {\n",
       "        text-align: right;\n",
       "    }\n",
       "</style>\n",
       "<table border=\"1\" class=\"dataframe\">\n",
       "  <thead>\n",
       "    <tr style=\"text-align: right;\">\n",
       "      <th></th>\n",
       "      <th>user_id</th>\n",
       "      <th>basket_id</th>\n",
       "      <th>day</th>\n",
       "      <th>item_id</th>\n",
       "      <th>quantity</th>\n",
       "      <th>sales_value</th>\n",
       "      <th>store_id</th>\n",
       "      <th>retail_disc</th>\n",
       "      <th>trans_time</th>\n",
       "      <th>week_no</th>\n",
       "      <th>coupon_disc</th>\n",
       "      <th>coupon_match_disc</th>\n",
       "    </tr>\n",
       "  </thead>\n",
       "  <tbody>\n",
       "    <tr>\n",
       "      <th>2396802</th>\n",
       "      <td>1167</td>\n",
       "      <td>41656790510</td>\n",
       "      <td>663</td>\n",
       "      <td>6410462</td>\n",
       "      <td>22451</td>\n",
       "      <td>43.98</td>\n",
       "      <td>3385</td>\n",
       "      <td>-0.65</td>\n",
       "      <td>1059</td>\n",
       "      <td>95</td>\n",
       "      <td>0.0</td>\n",
       "      <td>0.0</td>\n",
       "    </tr>\n",
       "    <tr>\n",
       "      <th>2396803</th>\n",
       "      <td>1167</td>\n",
       "      <td>41656790510</td>\n",
       "      <td>663</td>\n",
       "      <td>6430664</td>\n",
       "      <td>1</td>\n",
       "      <td>8.00</td>\n",
       "      <td>3385</td>\n",
       "      <td>0.00</td>\n",
       "      <td>1059</td>\n",
       "      <td>95</td>\n",
       "      <td>0.0</td>\n",
       "      <td>0.0</td>\n",
       "    </tr>\n",
       "  </tbody>\n",
       "</table>\n",
       "</div>"
      ],
      "text/plain": [
       "         user_id    basket_id  day  item_id  quantity  sales_value  store_id  \\\n",
       "2396802     1167  41656790510  663  6410462     22451        43.98      3385   \n",
       "2396803     1167  41656790510  663  6430664         1         8.00      3385   \n",
       "\n",
       "         retail_disc  trans_time  week_no  coupon_disc  coupon_match_disc  \n",
       "2396802        -0.65        1059       95          0.0                0.0  \n",
       "2396803         0.00        1059       95          0.0                0.0  "
      ]
     },
     "execution_count": 14,
     "metadata": {},
     "output_type": "execute_result"
    }
   ],
   "source": [
    "data_train_ranker.tail(2)"
   ]
  },
  {
   "cell_type": "code",
   "execution_count": 15,
   "metadata": {},
   "outputs": [
    {
     "name": "stdout",
     "output_type": "stream",
     "text": [
      "Decreased # items from 82059 to 7001\n"
     ]
    }
   ],
   "source": [
    "# Prefilter items\n",
    "n_items_before = data_train['item_id'].nunique()\n",
    "\n",
    "data_train = prefilter_items(data_train, item_features=item_features, take_n_popular=7000)\n",
    "\n",
    "n_items_after = data_train['item_id'].nunique()\n",
    "print('Decreased # items from {} to {}'.format(n_items_before, n_items_after))"
   ]
  },
  {
   "cell_type": "code",
   "execution_count": 16,
   "metadata": {},
   "outputs": [],
   "source": [
    "# Make cold-start to warm-start\n",
    "\n",
    "# ищем общих пользователей\n",
    "common_users = data_train.user_id.values\n",
    "\n",
    "# на валидации\n",
    "data_val = data_val[data_val.user_id.isin(common_users)]\n",
    "\n",
    "# на ранкере\n",
    "data_train_ranker = data_train_ranker[data_train_ranker.user_id.isin(common_users)]\n",
    "\n",
    "# сразу на тесте\n",
    "df_test = df_test[df_test.user_id.isin(common_users)]\n"
   ]
  },
  {
   "cell_type": "markdown",
   "metadata": {},
   "source": [
    "# Первый уровень.  Поиск лучшего метода. <a class='anchor' id='first_level'>"
   ]
  },
  {
   "cell_type": "code",
   "execution_count": 17,
   "metadata": {},
   "outputs": [
    {
     "name": "stderr",
     "output_type": "stream",
     "text": [
      "WARNING:root:Intel MKL BLAS detected. Its highly recommend to set the environment variable 'export MKL_NUM_THREADS=1' to disable its internal multithreading\n"
     ]
    },
    {
     "data": {
      "application/vnd.jupyter.widget-view+json": {
       "model_id": "1ebdbcb38c6a4e01ba5b1c81fa0a3650",
       "version_major": 2,
       "version_minor": 0
      },
      "text/plain": [
       "HBox(children=(FloatProgress(value=0.0, max=15.0), HTML(value='')))"
      ]
     },
     "metadata": {},
     "output_type": "display_data"
    },
    {
     "name": "stdout",
     "output_type": "stream",
     "text": [
      "\n"
     ]
    },
    {
     "data": {
      "application/vnd.jupyter.widget-view+json": {
       "model_id": "c738c91fdeb14a56b035e87107aebc97",
       "version_major": 2,
       "version_minor": 0
      },
      "text/plain": [
       "HBox(children=(FloatProgress(value=0.0, max=7001.0), HTML(value='')))"
      ]
     },
     "metadata": {},
     "output_type": "display_data"
    },
    {
     "name": "stdout",
     "output_type": "stream",
     "text": [
      "\n",
      "Wall time: 14.4 s\n"
     ]
    }
   ],
   "source": [
    "%%time\n",
    "recommender = MainRecommender(data_train, \n",
    "                              n_factors=500,\n",
    "                              regularization=0.01,\n",
    "                              iterations=15,\n",
    "                              num_threads=4\n",
    "                             )"
   ]
  },
  {
   "cell_type": "code",
   "execution_count": 18,
   "metadata": {},
   "outputs": [
    {
     "data": {
      "text/html": [
       "<div>\n",
       "<style scoped>\n",
       "    .dataframe tbody tr th:only-of-type {\n",
       "        vertical-align: middle;\n",
       "    }\n",
       "\n",
       "    .dataframe tbody tr th {\n",
       "        vertical-align: top;\n",
       "    }\n",
       "\n",
       "    .dataframe thead th {\n",
       "        text-align: right;\n",
       "    }\n",
       "</style>\n",
       "<table border=\"1\" class=\"dataframe\">\n",
       "  <thead>\n",
       "    <tr style=\"text-align: right;\">\n",
       "      <th></th>\n",
       "      <th>user_id</th>\n",
       "      <th>actual</th>\n",
       "    </tr>\n",
       "  </thead>\n",
       "  <tbody>\n",
       "    <tr>\n",
       "      <th>0</th>\n",
       "      <td>1</td>\n",
       "      <td>[836548, 856942, 877391, 933913, 948420, 10368...</td>\n",
       "    </tr>\n",
       "    <tr>\n",
       "      <th>1</th>\n",
       "      <td>2</td>\n",
       "      <td>[831125, 838136, 852864, 899624, 908649, 91504...</td>\n",
       "    </tr>\n",
       "  </tbody>\n",
       "</table>\n",
       "</div>"
      ],
      "text/plain": [
       "   user_id                                             actual\n",
       "0        1  [836548, 856942, 877391, 933913, 948420, 10368...\n",
       "1        2  [831125, 838136, 852864, 899624, 908649, 91504..."
      ]
     },
     "execution_count": 18,
     "metadata": {},
     "output_type": "execute_result"
    }
   ],
   "source": [
    "result_eval_matcher = data_val.groupby(USER_COL)[ITEM_COL].unique().reset_index()\n",
    "result_eval_matcher.columns=[USER_COL, ACTUAL_COL]\n",
    "result_eval_matcher.head(2)"
   ]
  },
  {
   "cell_type": "code",
   "execution_count": 19,
   "metadata": {},
   "outputs": [
    {
     "name": "stdout",
     "output_type": "stream",
     "text": [
      "Wall time: 19min 43s\n"
     ]
    }
   ],
   "source": [
    "%%time\n",
    "# Сравнение методов сразу на валидационных данных. \n",
    "result_eval_matcher['own_rec_IIR'] = result_eval_matcher[USER_COL].apply(lambda x: recommender.get_own_recommendations(x, N=N_PREDICT))\n",
    "result_eval_matcher['als_rec'] = result_eval_matcher[USER_COL].apply(lambda x: recommender.get_als_recommendations(x, N=N_PREDICT))\n",
    "result_eval_matcher['sim_item_rec'] = result_eval_matcher[USER_COL].apply(lambda x: recommender.get_similar_items_recommendation(x, N=N_PREDICT))\n",
    "result_eval_matcher['sim_user_rec'] = result_eval_matcher[USER_COL].apply(lambda x: recommender.get_similar_users_recommendation(x, N=N_PREDICT))\n",
    "\n",
    "popular_recs = global_popularity_rec(data_val, n=N_PREDICT)\n",
    "result_eval_matcher['global_popular_rec'] = result_eval_matcher['user_id'].apply(lambda x: popular_recs)\n",
    "\n",
    "result_eval_matcher['self_popular_rec'] = result_eval_matcher['user_id'].apply(lambda x: self_popularity_rec(x, data_train, n=N_PREDICT))\n",
    "\n",
    "result_eval_matcher['union_o_g'] = [np.ravel([[i, j] for i, j in zip(row[1][0], row[1][1])]) for row in result_eval_matcher[['own_rec_IIR', 'global_popular_rec']].iterrows()]\n",
    "result_eval_matcher['union_o_s'] = [np.ravel([[i, j] for i, j in zip(row[1][0], row[1][1])]) for row in result_eval_matcher[['own_rec_IIR', 'self_popular_rec']].iterrows()]"
   ]
  },
  {
   "cell_type": "code",
   "execution_count": 20,
   "metadata": {},
   "outputs": [
    {
     "data": {
      "text/plain": [
       "[('own_rec_IIR', 0.15874480849099956),\n",
       " ('als_rec', 0.14277803414859078),\n",
       " ('sim_item_rec', 0.04623904014766991),\n",
       " ('sim_user_rec', 0.024273188740193904),\n",
       " ('global_popular_rec', 0.14093216428241614),\n",
       " ('self_popular_rec', 0.27891093677895623),\n",
       " ('union_o_g', 0.2107983387171173),\n",
       " ('union_o_s', 0.18163359483156152)]"
      ]
     },
     "execution_count": 20,
     "metadata": {},
     "output_type": "execute_result"
    }
   ],
   "source": [
    "list(calc_precision(result_eval_matcher, 5))"
   ]
  },
  {
   "cell_type": "code",
   "execution_count": 21,
   "metadata": {},
   "outputs": [
    {
     "name": "stdout",
     "output_type": "stream",
     "text": [
      "Wall time: 34 s\n"
     ]
    }
   ],
   "source": [
    "%%time\n",
    "# Проверка на данных для ранжирования.\n",
    "result_eval_matcher2 = data_train_ranker.groupby(USER_COL)[ITEM_COL].unique().reset_index()\n",
    "result_eval_matcher2.columns=[USER_COL, ACTUAL_COL]\n",
    "\n",
    "result_eval_matcher2['own_rec_IIR'] = result_eval_matcher2[USER_COL].apply(lambda x: recommender.get_own_recommendations(x, N=N_PREDICT))\n",
    "result_eval_matcher['als_rec'] = result_eval_matcher[USER_COL].apply(lambda x: recommender.get_als_recommendations(x, N=N_PREDICT))\n",
    "result_eval_matcher2['self_popular_rec'] = result_eval_matcher2['user_id'].apply(lambda x: self_popularity_rec(x, data_val, n=N_PREDICT))"
   ]
  },
  {
   "cell_type": "code",
   "execution_count": 22,
   "metadata": {},
   "outputs": [
    {
     "data": {
      "text/plain": [
       "[('own_rec_IIR', 0.16089334548769177),\n",
       " ('self_popular_rec', 0.4032816773017331)]"
      ]
     },
     "execution_count": 22,
     "metadata": {},
     "output_type": "execute_result"
    }
   ],
   "source": [
    "list(calc_precision(result_eval_matcher2, 5))"
   ]
  },
  {
   "cell_type": "code",
   "execution_count": 23,
   "metadata": {
    "scrolled": false
   },
   "outputs": [
    {
     "name": "stdout",
     "output_type": "stream",
     "text": [
      "Wall time: 33 s\n"
     ]
    }
   ],
   "source": [
    "%%time\n",
    "# Проверка на данных для курсовой.\n",
    "result_test = df_test.groupby(USER_COL)[ITEM_COL].unique().reset_index()\n",
    "result_test.columns=[USER_COL, ACTUAL_COL]\n",
    "\n",
    "result_test['self_popular_rec_train'] = result_test['user_id'].apply(lambda x: self_popularity_rec(x, data_train, n=N_PREDICT))\n",
    "result_test['self_popular_rec_val'] = result_test['user_id'].apply(lambda x: self_popularity_rec(x, data_val, n=N_PREDICT))\n",
    "result_test['self_popular_rec_ranker'] = result_test['user_id'].apply(lambda x: self_popularity_rec(x, data_train_ranker, n=N_PREDICT))"
   ]
  },
  {
   "cell_type": "code",
   "execution_count": 24,
   "metadata": {},
   "outputs": [
    {
     "data": {
      "text/plain": [
       "[('self_popular_rec_train', 0.19383961763143706),\n",
       " ('self_popular_rec_val', 0.2900690387679222),\n",
       " ('self_popular_rec_ranker', 0.3516728624535319)]"
      ]
     },
     "execution_count": 24,
     "metadata": {},
     "output_type": "execute_result"
    }
   ],
   "source": [
    "list(calc_precision(result_test, 5))"
   ]
  },
  {
   "cell_type": "markdown",
   "metadata": {},
   "source": [
    "#### 'self_popular_rec' на первом уровне показал precision@5 = 0.3516 при использовании data_train_ranker в качестве набора данных, на которых определяется Топ-n товаров каждого пользователя."
   ]
  },
  {
   "cell_type": "markdown",
   "metadata": {},
   "source": [
    "Высокая метрика precision@5 = 0.35 на части датасета(data_train_ranker) может быть случайностью и в реальной задаче не будет\n",
    "    практической возможности предлагать покупателю поочередно его топовые товары из других временных промежутков пока не\n",
    "            вырастет метрика precision@5. Поэтому каждый раз, когда будем предлагать покупателю его же топовые товары из другого временного интервала, будет неопределенность в качестве(точности) рекомендаций, поскольку из условия задачи нужно предложить пользователю некие товары, которые он возможно купит на интервале 3-х недель(а не, например, в следующий раз)."
   ]
  },
  {
   "cell_type": "markdown",
   "metadata": {},
   "source": [
    "В это связи определим насколько полученное качество явлется случайным. Сравним с другими интервалами времени."
   ]
  },
  {
   "cell_type": "code",
   "execution_count": 25,
   "metadata": {
    "scrolled": true
   },
   "outputs": [
    {
     "name": "stdout",
     "output_type": "stream",
     "text": [
      "91\n",
      "Wall time: 3min 31s\n"
     ]
    }
   ],
   "source": [
    "%%time\n",
    "# Берем для трейна 3 первые недели, а для валидации 3 следующие недели.\n",
    "# Расчитываем показатель точности.\n",
    "\n",
    "interval = 1\n",
    "list_interval = []\n",
    "result_precision = []\n",
    "\n",
    "while interval < 89:\n",
    "    \n",
    "#1 4 7 10 13 16 19 22 25 28 31 34 37 40 43 46 49 52 55 58 61 64 67 70 73 76 79 82 85 88| 91 94\n",
    "\n",
    "    data_train_part = data[(data['week_no'] >= interval) & (data['week_no'] < interval + 3)]\n",
    "    \n",
    "    data_val_part = data[(data['week_no'] >= interval + 3) & (data['week_no'] < interval + 6)]\n",
    "    \n",
    "    \n",
    "    result_ = data_val_part.groupby(USER_COL)[ITEM_COL].unique().reset_index()\n",
    "    result_.columns=[USER_COL, ACTUAL_COL]\n",
    "    \n",
    "    result_[f'self_pop_rec_part'] = result_['user_id'].apply(lambda x: self_popularity_rec(x, data_train_part, n=N_PREDICT))\n",
    "    \n",
    "    final_result = result_.apply(lambda row: precision_at_k(row[f'self_pop_rec_part'], row['actual']), axis=1).mean()\n",
    "    list_interval.append(f'{interval}-{interval+3}')\n",
    "    \n",
    "    result_precision.append(round(final_result, 4))\n",
    "    \n",
    "    interval += 3\n",
    "print(interval)"
   ]
  },
  {
   "cell_type": "code",
   "execution_count": 26,
   "metadata": {},
   "outputs": [
    {
     "data": {
      "image/png": "[encoded data removed]",
      "text/plain": [
       "<Figure size 1224x288 with 1 Axes>"
      ]
     },
     "metadata": {
      "needs_background": "light"
     },
     "output_type": "display_data"
    }
   ],
   "source": [
    "plt.figure(figsize=(17,4))\n",
    "plt.plot(np.arange(len(list_interval)), result_precision)\n",
    "plt.xticks(np.arange(len(list_interval)), list_interval, rotation=70)\n",
    "plt.grid()"
   ]
  },
  {
   "cell_type": "code",
   "execution_count": 27,
   "metadata": {},
   "outputs": [
    {
     "name": "stdout",
     "output_type": "stream",
     "text": [
      "85\n",
      "Wall time: 2min 40s\n"
     ]
    }
   ],
   "source": [
    "%%time\n",
    "# Берем для трейна 6 первые недели, а для валидации 6 следующие недели.\n",
    "\n",
    "interval_6 = 1\n",
    "list_interval_6 = []\n",
    "result_precision_6 = []\n",
    "\n",
    "while interval_6 < 80:\n",
    "#1, 7, 13, 19, 25, 31, 37, 43, 49, 55, 61, 67, 73, 79, |85, 91\n",
    "\n",
    "    data_train_part = data[(data['week_no'] >= interval_6) & (data['week_no'] < interval_6 + 6)]\n",
    "    data_val_part = data[(data['week_no'] >= interval_6 + 6) & (data['week_no'] < interval_6 + 12)]\n",
    "    \n",
    "    result_ = data_val_part.groupby(USER_COL)[ITEM_COL].unique().reset_index()\n",
    "    result_.columns=[USER_COL, ACTUAL_COL]\n",
    "    \n",
    "    result_[f'self_pop_rec_part'] = result_['user_id'].apply(lambda x: self_popularity_rec(x, data_train_part, n=N_PREDICT))\n",
    "    final_result = result_.apply(lambda row: precision_at_k(row[f'self_pop_rec_part'], row['actual']), axis=1).mean()\n",
    "    \n",
    "    list_interval_6.append(f'{interval_6}-{interval_6+6}')\n",
    "    result_precision_6.append(round(final_result, 4))\n",
    "    \n",
    "    interval_6 += 6\n",
    "print(interval_6)"
   ]
  },
  {
   "cell_type": "code",
   "execution_count": 28,
   "metadata": {},
   "outputs": [
    {
     "data": {
      "image/png": "[encoded data removed]",
      "text/plain": [
       "<Figure size 1224x288 with 1 Axes>"
      ]
     },
     "metadata": {
      "needs_background": "light"
     },
     "output_type": "display_data"
    }
   ],
   "source": [
    "plt.figure(figsize=(17,4))\n",
    "plt.plot(np.arange(len(list_interval_6)), result_precision_6)\n",
    "plt.xticks(np.arange(len(list_interval_6)), list_interval_6, rotation=70)\n",
    "plt.grid()"
   ]
  },
  {
   "cell_type": "code",
   "execution_count": 29,
   "metadata": {},
   "outputs": [
    {
     "name": "stderr",
     "output_type": "stream",
     "text": [
      "100%|██████████████████████████████████████████████████████████████████████████████████| 92/92 [19:58<00:00, 13.03s/it]\n"
     ]
    }
   ],
   "source": [
    "# Поскольку на тесте у нас всего 3 недели, то сравним эти 3 недели с остальными возрастающими интервалами\n",
    "# интервал валидации 2,3,4 недели с 1 неделей\n",
    "# интервал валидации 3,4,5 недели с 1,2 неделями\n",
    "# интервал валидации 4,5,6 недели с 1,2,3 неделями\n",
    "# ...\n",
    "\n",
    "num_week_interval = []\n",
    "result_precision = []\n",
    "\n",
    "for num_week in tqdm(np.arange(1, 93, 1)):\n",
    "# 1, 8, 15, 22, 29, 36, 43, 50, 57, 64, 71, 78, | 85, 92\n",
    "\n",
    "    data_train_part = data[data['week_no'] < num_week + 1]\n",
    "    \n",
    "    data_val_part = data[(data['week_no'] > num_week) & (data['week_no'] <= num_week + 3)]\n",
    "    \n",
    "    result_ = data_val_part.groupby(USER_COL)[ITEM_COL].unique().reset_index()\n",
    "    result_.columns=[USER_COL, ACTUAL_COL]\n",
    "    result_[f'self_pop_rec_part'] = result_['user_id'].apply(lambda x: self_popularity_rec(x, data_train_part, n=N_PREDICT))\n",
    "    final_result = result_.apply(lambda row: precision_at_k(row[f'self_pop_rec_part'], row['actual']), axis=1).mean()\n",
    "    \n",
    "    num_week_interval.append(f'{num_week+1},{num_week+2},{num_week+3} --> {num_week}')\n",
    "    result_precision.append(round(final_result, 4))"
   ]
  },
  {
   "cell_type": "code",
   "execution_count": 30,
   "metadata": {},
   "outputs": [
    {
     "data": {
      "image/png": "[encoded data removed]",
      "text/plain": [
       "<Figure size 1512x360 with 1 Axes>"
      ]
     },
     "metadata": {
      "needs_background": "light"
     },
     "output_type": "display_data"
    }
   ],
   "source": [
    "plt.figure(figsize=(21,5))\n",
    "plt.plot(np.arange(len(num_week_interval)), result_precision)\n",
    "plt.xticks(np.arange(len(num_week_interval)), num_week_interval, rotation=70)\n",
    "plt.grid()"
   ]
  },
  {
   "cell_type": "markdown",
   "metadata": {},
   "source": [
    "Данные графики говорят о том, что рекомендации, построенные на собственных покупках пользователя за предыдущий интервал(3 недели) времени, достаточно качественны(точность) и полученный результат precision@5 = 0.35 на части датасета(data_train_ranker) устойчив."
   ]
  },
  {
   "cell_type": "markdown",
   "metadata": {},
   "source": [
    "# Второй уровень. Улучшение базовой модели 1-го уровня. <a class='anchor' id='second_level'>"
   ]
  },
  {
   "cell_type": "code",
   "execution_count": 31,
   "metadata": {},
   "outputs": [
    {
     "data": {
      "text/html": [
       "<div>\n",
       "<style scoped>\n",
       "    .dataframe tbody tr th:only-of-type {\n",
       "        vertical-align: middle;\n",
       "    }\n",
       "\n",
       "    .dataframe tbody tr th {\n",
       "        vertical-align: top;\n",
       "    }\n",
       "\n",
       "    .dataframe thead th {\n",
       "        text-align: right;\n",
       "    }\n",
       "</style>\n",
       "<table border=\"1\" class=\"dataframe\">\n",
       "  <thead>\n",
       "    <tr style=\"text-align: right;\">\n",
       "      <th></th>\n",
       "      <th>user_id</th>\n",
       "      <th>item_id</th>\n",
       "      <th>manufacturer</th>\n",
       "      <th>department</th>\n",
       "      <th>brand</th>\n",
       "      <th>commodity_desc</th>\n",
       "      <th>sub_commodity_desc</th>\n",
       "      <th>curr_size_of_product</th>\n",
       "      <th>age_desc</th>\n",
       "      <th>marital_status_code</th>\n",
       "      <th>...</th>\n",
       "      <th>homeowner_desc</th>\n",
       "      <th>hh_comp_desc</th>\n",
       "      <th>household_size_desc</th>\n",
       "      <th>kid_category_desc</th>\n",
       "      <th>mean_check</th>\n",
       "      <th>quantity_purchases_in_cat</th>\n",
       "      <th>mean_purch_per_week</th>\n",
       "      <th>mean_comm_per_week</th>\n",
       "      <th>mean_sales_item_per_cat-sales_value</th>\n",
       "      <th>cnt_sales-mean_sales_per_cat</th>\n",
       "    </tr>\n",
       "  </thead>\n",
       "  <tbody>\n",
       "    <tr>\n",
       "      <th>0</th>\n",
       "      <td>84</td>\n",
       "      <td>903529.0</td>\n",
       "      <td>539</td>\n",
       "      <td>DRUG GM</td>\n",
       "      <td>National</td>\n",
       "      <td>CIGARETTES</td>\n",
       "      <td>CIGARETTES</td>\n",
       "      <td>972976  PK</td>\n",
       "      <td>NaN</td>\n",
       "      <td>NaN</td>\n",
       "      <td>...</td>\n",
       "      <td>NaN</td>\n",
       "      <td>NaN</td>\n",
       "      <td>NaN</td>\n",
       "      <td>NaN</td>\n",
       "      <td>16.04625</td>\n",
       "      <td>10.0</td>\n",
       "      <td>1.354839</td>\n",
       "      <td>107.280899</td>\n",
       "      <td>198.069048</td>\n",
       "      <td>-1.180328</td>\n",
       "    </tr>\n",
       "    <tr>\n",
       "      <th>1</th>\n",
       "      <td>84</td>\n",
       "      <td>829722.0</td>\n",
       "      <td>70</td>\n",
       "      <td>GROCERY</td>\n",
       "      <td>National</td>\n",
       "      <td>LAUNDRY DETERGENTS</td>\n",
       "      <td>LIQUID LAUNDRY DETERGENTS</td>\n",
       "      <td>32 LOAD</td>\n",
       "      <td>NaN</td>\n",
       "      <td>NaN</td>\n",
       "      <td>...</td>\n",
       "      <td>NaN</td>\n",
       "      <td>NaN</td>\n",
       "      <td>NaN</td>\n",
       "      <td>NaN</td>\n",
       "      <td>16.04625</td>\n",
       "      <td>8.0</td>\n",
       "      <td>2.030303</td>\n",
       "      <td>63.865169</td>\n",
       "      <td>598.241940</td>\n",
       "      <td>3.872186</td>\n",
       "    </tr>\n",
       "    <tr>\n",
       "      <th>2</th>\n",
       "      <td>84</td>\n",
       "      <td>920025.0</td>\n",
       "      <td>764</td>\n",
       "      <td>GROCERY</td>\n",
       "      <td>National</td>\n",
       "      <td>LAUNDRY ADDITIVES</td>\n",
       "      <td>FABRIC SOFTENER LIQUID</td>\n",
       "      <td>60 LOAD</td>\n",
       "      <td>NaN</td>\n",
       "      <td>NaN</td>\n",
       "      <td>...</td>\n",
       "      <td>NaN</td>\n",
       "      <td>NaN</td>\n",
       "      <td>NaN</td>\n",
       "      <td>NaN</td>\n",
       "      <td>16.04625</td>\n",
       "      <td>8.0</td>\n",
       "      <td>1.600000</td>\n",
       "      <td>28.764045</td>\n",
       "      <td>409.926389</td>\n",
       "      <td>5.064220</td>\n",
       "    </tr>\n",
       "    <tr>\n",
       "      <th>3</th>\n",
       "      <td>84</td>\n",
       "      <td>1080414.0</td>\n",
       "      <td>693</td>\n",
       "      <td>DRUG GM</td>\n",
       "      <td>National</td>\n",
       "      <td>CANDY - CHECKLANE</td>\n",
       "      <td>CANDY BARS (SINGLES)(INCLUDING</td>\n",
       "      <td>1.6 OZ</td>\n",
       "      <td>NaN</td>\n",
       "      <td>NaN</td>\n",
       "      <td>...</td>\n",
       "      <td>NaN</td>\n",
       "      <td>NaN</td>\n",
       "      <td>NaN</td>\n",
       "      <td>NaN</td>\n",
       "      <td>16.04625</td>\n",
       "      <td>3.0</td>\n",
       "      <td>13.285714</td>\n",
       "      <td>303.000000</td>\n",
       "      <td>79.980645</td>\n",
       "      <td>0.090535</td>\n",
       "    </tr>\n",
       "    <tr>\n",
       "      <th>4</th>\n",
       "      <td>84</td>\n",
       "      <td>5569374.0</td>\n",
       "      <td>1208</td>\n",
       "      <td>GROCERY</td>\n",
       "      <td>National</td>\n",
       "      <td>SOFT DRINKS</td>\n",
       "      <td>SOFT DRINKS 12/18&amp;15PK CAN CAR</td>\n",
       "      <td>12 OZ</td>\n",
       "      <td>NaN</td>\n",
       "      <td>NaN</td>\n",
       "      <td>...</td>\n",
       "      <td>NaN</td>\n",
       "      <td>NaN</td>\n",
       "      <td>NaN</td>\n",
       "      <td>NaN</td>\n",
       "      <td>16.04625</td>\n",
       "      <td>4.0</td>\n",
       "      <td>9.000000</td>\n",
       "      <td>487.730337</td>\n",
       "      <td>4111.252462</td>\n",
       "      <td>-15.930211</td>\n",
       "    </tr>\n",
       "  </tbody>\n",
       "</table>\n",
       "<p>5 rows × 21 columns</p>\n",
       "</div>"
      ],
      "text/plain": [
       "   user_id    item_id  manufacturer department     brand      commodity_desc  \\\n",
       "0       84   903529.0           539    DRUG GM  National          CIGARETTES   \n",
       "1       84   829722.0            70    GROCERY  National  LAUNDRY DETERGENTS   \n",
       "2       84   920025.0           764    GROCERY  National   LAUNDRY ADDITIVES   \n",
       "3       84  1080414.0           693    DRUG GM  National   CANDY - CHECKLANE   \n",
       "4       84  5569374.0          1208    GROCERY  National         SOFT DRINKS   \n",
       "\n",
       "               sub_commodity_desc curr_size_of_product age_desc  \\\n",
       "0                      CIGARETTES           972976  PK      NaN   \n",
       "1       LIQUID LAUNDRY DETERGENTS              32 LOAD      NaN   \n",
       "2          FABRIC SOFTENER LIQUID              60 LOAD      NaN   \n",
       "3  CANDY BARS (SINGLES)(INCLUDING               1.6 OZ      NaN   \n",
       "4  SOFT DRINKS 12/18&15PK CAN CAR                12 OZ      NaN   \n",
       "\n",
       "  marital_status_code  ... homeowner_desc hh_comp_desc household_size_desc  \\\n",
       "0                 NaN  ...            NaN          NaN                 NaN   \n",
       "1                 NaN  ...            NaN          NaN                 NaN   \n",
       "2                 NaN  ...            NaN          NaN                 NaN   \n",
       "3                 NaN  ...            NaN          NaN                 NaN   \n",
       "4                 NaN  ...            NaN          NaN                 NaN   \n",
       "\n",
       "  kid_category_desc mean_check  quantity_purchases_in_cat  \\\n",
       "0               NaN   16.04625                       10.0   \n",
       "1               NaN   16.04625                        8.0   \n",
       "2               NaN   16.04625                        8.0   \n",
       "3               NaN   16.04625                        3.0   \n",
       "4               NaN   16.04625                        4.0   \n",
       "\n",
       "   mean_purch_per_week  mean_comm_per_week  \\\n",
       "0             1.354839          107.280899   \n",
       "1             2.030303           63.865169   \n",
       "2             1.600000           28.764045   \n",
       "3            13.285714          303.000000   \n",
       "4             9.000000          487.730337   \n",
       "\n",
       "   mean_sales_item_per_cat-sales_value  cnt_sales-mean_sales_per_cat  \n",
       "0                           198.069048                     -1.180328  \n",
       "1                           598.241940                      3.872186  \n",
       "2                           409.926389                      5.064220  \n",
       "3                            79.980645                      0.090535  \n",
       "4                          4111.252462                    -15.930211  \n",
       "\n",
       "[5 rows x 21 columns]"
      ]
     },
     "execution_count": 31,
     "metadata": {},
     "output_type": "execute_result"
    }
   ],
   "source": [
    "# Подготовка данных для трейна\n",
    "X_train, y_train = create_second_level(data_train_ranker, data_train, data_val, item_features, user_features)\n",
    "X_train.head()"
   ]
  },
  {
   "cell_type": "code",
   "execution_count": 32,
   "metadata": {},
   "outputs": [
    {
     "data": {
      "text/plain": [
       "0.0    94638\n",
       "1.0    25040\n",
       "Name: target, dtype: int64"
      ]
     },
     "execution_count": 32,
     "metadata": {},
     "output_type": "execute_result"
    }
   ],
   "source": [
    "y_train.value_counts()"
   ]
  },
  {
   "cell_type": "code",
   "execution_count": 33,
   "metadata": {},
   "outputs": [
    {
     "data": {
      "text/plain": [
       "['department',\n",
       " 'brand',\n",
       " 'commodity_desc',\n",
       " 'sub_commodity_desc',\n",
       " 'curr_size_of_product',\n",
       " 'age_desc',\n",
       " 'marital_status_code',\n",
       " 'income_desc',\n",
       " 'homeowner_desc',\n",
       " 'hh_comp_desc',\n",
       " 'household_size_desc',\n",
       " 'kid_category_desc']"
      ]
     },
     "execution_count": 33,
     "metadata": {},
     "output_type": "execute_result"
    }
   ],
   "source": [
    "cat_features = X_train.select_dtypes(include=['object']).columns.tolist()\n",
    "cat_features"
   ]
  },
  {
   "cell_type": "code",
   "execution_count": 34,
   "metadata": {},
   "outputs": [],
   "source": [
    "X_train[cat_features + ['user_id', 'item_id']] = X_train[cat_features + ['user_id', 'item_id']].astype('category')"
   ]
  },
  {
   "cell_type": "code",
   "execution_count": 35,
   "metadata": {},
   "outputs": [
    {
     "data": {
      "text/plain": [
       "LGBMClassifier(boosting_type='gbdt',\n",
       "               categorical_feature=['department', 'brand', 'commodity_desc',\n",
       "                                    'sub_commodity_desc',\n",
       "                                    'curr_size_of_product', 'age_desc',\n",
       "                                    'marital_status_code', 'income_desc',\n",
       "                                    'homeowner_desc', 'hh_comp_desc',\n",
       "                                    'household_size_desc',\n",
       "                                    'kid_category_desc'],\n",
       "               class_weight='balanced', colsample_bytree=1.0,\n",
       "               importance_type='split', learning_rate=0.1, max_depth=9,\n",
       "               min_child_samples=20, min_child_weight=0.001, min_split_gain=0.0,\n",
       "               n_estimators=672, n_jobs=-1, num_leaves=36, objective=None,\n",
       "               random_state=None, reg_alpha=0.0, reg_lambda=0.0, silent=True,\n",
       "               subsample=1.0, subsample_for_bin=200000, subsample_freq=0)"
      ]
     },
     "execution_count": 35,
     "metadata": {},
     "output_type": "execute_result"
    }
   ],
   "source": [
    "drop_list = []\n",
    "\n",
    "lgbc = LGBMClassifier(categorical_feature=cat_features,\n",
    "                      n_estimators=672,\n",
    "                      class_weight='balanced',\n",
    "                      num_leaves=36,\n",
    "                      max_depth=9)\n",
    "\n",
    "lgbc.fit(X_train.drop(drop_list, axis=1), y_train)"
   ]
  },
  {
   "cell_type": "code",
   "execution_count": 36,
   "metadata": {},
   "outputs": [
    {
     "data": {
      "text/plain": [
       "Text(0.5, 1.0, 'What are the top important features to start with?')"
      ]
     },
     "execution_count": 36,
     "metadata": {},
     "output_type": "execute_result"
    },
    {
     "data": {
      "image/png": "[encoded data removed]",
      "text/plain": [
       "<Figure size 720x360 with 1 Axes>"
      ]
     },
     "metadata": {
      "needs_background": "light"
     },
     "output_type": "display_data"
    }
   ],
   "source": [
    "n_top = 50\n",
    "importances = lgbc.feature_importances_\n",
    "idx = np.argsort(importances)[::-1][0:n_top]\n",
    "feature_names = X_train.drop(drop_list, axis=1).columns\n",
    "\n",
    "plt.figure(figsize=(10, 5))\n",
    "sns.barplot(x=importances[idx], y=feature_names[idx], palette=\"viridis\", orient='h')\n",
    "plt.title(\"What are the top important features to start with?\", size=14)"
   ]
  },
  {
   "cell_type": "code",
   "execution_count": 37,
   "metadata": {},
   "outputs": [],
   "source": [
    "# Подготовка данных для теста\n",
    "X_test_df, y_test_df = create_second_level(df_test, data_train, data_val, item_features, user_features)\n",
    "X_test_df[cat_features + ['user_id', 'item_id']] = X_test_df[cat_features + ['user_id', 'item_id']].astype('category')"
   ]
  },
  {
   "cell_type": "code",
   "execution_count": 38,
   "metadata": {},
   "outputs": [
    {
     "data": {
      "text/plain": [
       "0.38884758364312294"
      ]
     },
     "execution_count": 38,
     "metadata": {},
     "output_type": "execute_result"
    }
   ],
   "source": [
    "test_preds_proba = lgbc.predict_proba(X_test_df.drop(drop_list, axis=1))[:, 1]\n",
    "test_preds_proba\n",
    "result_final = get_final_rec(X_test_df.drop(drop_list, axis=1), test_preds_proba)\n",
    "result_final.apply(lambda row: precision_at_k(row['rec'], row['actual']), axis=1).mean()"
   ]
  },
  {
   "cell_type": "markdown",
   "metadata": {},
   "source": [
    "#### precision@5 > 0.38"
   ]
  },
  {
   "cell_type": "code",
   "execution_count": 40,
   "metadata": {},
   "outputs": [
    {
     "name": "stderr",
     "output_type": "stream",
     "text": [
      "100%|██████████████████████████████████████████████████████████████████████████████████| 19/19 [04:21<00:00, 13.76s/it]\n"
     ]
    }
   ],
   "source": [
    "lgbc = LGBMClassifier(categorical_feature=cat_features,\n",
    "                      n_estimators=672,\n",
    "                      class_weight='balanced',\n",
    "                      num_leaves=36,\n",
    "                      max_depth=9)\n",
    "my_tuple = {}\n",
    "\n",
    "for col in tqdm(X_train.columns.tolist()[2:]):\n",
    "    X_test_df2 = X_test_df.copy()\n",
    "    \n",
    "    lgbc.fit(X_train.drop(col, axis=1), y_train)\n",
    "    \n",
    "    test_preds_proba = lgbc.predict_proba(X_test_df2.drop(col, axis=1))[:, 1]\n",
    "\n",
    "    result_final = get_final_rec(X_test_df2.drop(col, axis=1), test_preds_proba)\n",
    "    \n",
    "    my_tuple[col] = result_final.apply(lambda row: precision_at_k(row['rec'], row['actual']), axis=1).mean()"
   ]
  },
  {
   "cell_type": "code",
   "execution_count": 41,
   "metadata": {},
   "outputs": [
    {
     "data": {
      "text/plain": [
       "{'manufacturer': 0.3848114710568251,\n",
       " 'department': 0.38661710037174846,\n",
       " 'brand': 0.3861922464152955,\n",
       " 'commodity_desc': 0.3857673924588432,\n",
       " 'sub_commodity_desc': 0.38544875199150386,\n",
       " 'curr_size_of_product': 0.38247477429633653,\n",
       " 'age_desc': 0.3868295273499744,\n",
       " 'marital_status_code': 0.3850238980350511,\n",
       " 'income_desc': 0.3834306956983546,\n",
       " 'homeowner_desc': 0.385873605947956,\n",
       " 'hh_comp_desc': 0.3841741901221465,\n",
       " 'household_size_desc': 0.3872543813064271,\n",
       " 'kid_category_desc': 0.38236856080722365,\n",
       " 'mean_check': 0.38513011152416426,\n",
       " 'quantity_purchases_in_cat': 0.3877854487519921,\n",
       " 'mean_purch_per_week': 0.3842804036112594,\n",
       " 'mean_comm_per_week': 0.38459904407859863,\n",
       " 'mean_sales_item_per_cat-sales_value': 0.38141263940520487,\n",
       " 'cnt_sales-mean_sales_per_cat': 0.3802442910249607}"
      ]
     },
     "execution_count": 41,
     "metadata": {},
     "output_type": "execute_result"
    }
   ],
   "source": [
    "my_tuple"
   ]
  },
  {
   "cell_type": "markdown",
   "metadata": {},
   "source": [
    "Удаление какого-либо признака при неизменных гиперпараметрах модели не улучшает точность."
   ]
  },
  {
   "cell_type": "code",
   "execution_count": 67,
   "metadata": {},
   "outputs": [],
   "source": [
    "result_final['rec'] = result_final['rec'].apply(lambda x: list(map(int, x)))"
   ]
  },
  {
   "cell_type": "code",
   "execution_count": 69,
   "metadata": {},
   "outputs": [],
   "source": [
    "# сохранение в файл\n",
    "result_final[['user_id', 'rec']].to_csv('recommendations.csv', index=False)\n"
   ]
  },
  {
   "cell_type": "markdown",
   "metadata": {},
   "source": [
    "# Выводы. <a class='anchor' id='end'>"
   ]
  },
  {
   "cell_type": "markdown",
   "metadata": {},
   "source": [
    "**Поставленная задача выполнена, показатель точности на тесте(precision@5, данные для курсовой) составил > 0.38**"
   ]
  },
  {
   "cell_type": "markdown",
   "metadata": {},
   "source": [
    "В ходе работы также был применен метод ALS, однако показатель точности(precision@5) в экспериментах при текущих фичах и несильно большой сложности ML модели не превышал 0.25."
   ]
  },
  {
   "cell_type": "markdown",
   "metadata": {},
   "source": [
    "Дальнейшее повышение качества рекомендаций при использовании метода 'self_popular_rec' может быть достигнуто за счет:\n",
    "* Выявления закономерностей на основании истории покупок покупателя (в том числе в разных временных разрезах, по корзинам покупок);\n",
    "* Формирования и отбора новых фичей на данных для второго уровня модели рекомендации;\n",
    "* Более точного подбора гиперпараметров ML модели(усложнения модели);\n",
    "* Ансамблирования ML моделей.\n"
   ]
  },
  {
   "cell_type": "markdown",
   "metadata": {},
   "source": [
    "Необходимо отметить, что в данной работе применялся подход \"теплый старт\", поэтому при изменении подхода на \"холодный старт\" метод 'self_popular_rec' на новом пользователе работать не будет. В этой связи будет необходимо для нового пользователя найти похожих пользователей при помощи, например, ALS/FAISS и затем использовать метод 'self_popular_rec'(или найти вектор похожих товаров, что часто не дает хорошую точность)."
   ]
  },
  {
   "cell_type": "markdown",
   "metadata": {},
   "source": [
    "При построении первого уровня рокемендаций с ALS, необходимо также рассматривать совместно первый и второй уровни, поскольку, например, понижение take_n_popular в префильтрации данных(def prefilter_items) повышает точность с ALS на первом уровне, но может ухудшить или дать небольшой прирост точности на модели второго уровня."
   ]
  },
  {
   "cell_type": "markdown",
   "metadata": {},
   "source": [
    "Далее важным замечанием является то, что метод 'self_popular_rec'(\"теплый старт\") не обеспечивает разнообразия товаров для конкретного пользователя и может опаздывать за меняющимся интересом покупателя, например, когда алгоритм будет предлагать пользователю популярные товары этого же пользователя и чтобы в этот Топ-n популярных товаров попал новый товар, пользователю целенаправленно нужно брать не свои популярные товары, иначе алгоритм будет предлагать одно и то же. Таким образом, сложнее будет определить что еще пользователю потенциально может быть интересно. Более того, однообразие рекомендаций может способствовать оттоку покупателей. \n",
    "\n",
    "Поэтому возможно стоило бы использовать метод 'self_popular_rec' в увязке с другими методами.\n",
    "\n"
   ]
  },
  {
   "cell_type": "code",
   "execution_count": null,
   "metadata": {},
   "outputs": [],
   "source": []
  },
  {
   "cell_type": "code",
   "execution_count": null,
   "metadata": {},
   "outputs": [],
   "source": []
  }
 ],
 "metadata": {
  "kernelspec": {
   "display_name": "Python 3 (ipykernel)",
   "language": "python",
   "name": "python3"
  },
  "language_info": {
   "codemirror_mode": {
    "name": "ipython",
    "version": 3
   },
   "file_extension": ".py",
   "mimetype": "text/x-python",
   "name": "python",
   "nbconvert_exporter": "python",
   "pygments_lexer": "ipython3",
   "version": "3.9.13"
  }
 },
 "nbformat": 4,
 "nbformat_minor": 2
}
